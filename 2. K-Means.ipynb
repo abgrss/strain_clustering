{
 "cells": [
  {
   "cell_type": "markdown",
   "metadata": {},
   "source": [
    "# K-Means"
   ]
  },
  {
   "cell_type": "code",
   "execution_count": 1,
   "metadata": {},
   "outputs": [],
   "source": [
    "import numpy as np\n",
    "import pandas as pd\n",
    "import matplotlib.pyplot as plt\n",
    "import seaborn as sns\n",
    "import math\n",
    "from scipy import stats\n",
    "from sklearn import preprocessing\n",
    "from sklearn.preprocessing import StandardScaler\n",
    "from sklearn.decomposition import PCA\n",
    "from sklearn.metrics import adjusted_mutual_info_score\n",
    "from sklearn.cluster import KMeans\n",
    "from sklearn.model_selection import train_test_split\n",
    "from sklearn.metrics import accuracy_score\n",
    "from sklearn.metrics import confusion_matrix\n",
    "import warnings\n",
    "warnings.filterwarnings('ignore')\n",
    "pd.set_option('display.max_rows', 50) \n",
    "pd.set_option('display.max_columns', None)"
   ]
  },
  {
   "cell_type": "code",
   "execution_count": 2,
   "metadata": {},
   "outputs": [],
   "source": [
    "df = pd.read_csv('data/df_tight.csv')"
   ]
  },
  {
   "cell_type": "code",
   "execution_count": 3,
   "metadata": {},
   "outputs": [],
   "source": [
    "df_mr = pd.read_csv('data/df_mr.csv')"
   ]
  },
  {
   "cell_type": "markdown",
   "metadata": {},
   "source": [
    "### K-Means"
   ]
  },
  {
   "cell_type": "markdown",
   "metadata": {},
   "source": [
    "Let's try a K-Means model for our categorical data (everything except flavours)."
   ]
  },
  {
   "cell_type": "markdown",
   "metadata": {},
   "source": [
    "Before we can perform the K-Means model we'll have to separate out all numerical data. This includes a list of flavours. We'll apply a K-Modes model on the flavours below."
   ]
  },
  {
   "cell_type": "code",
   "execution_count": 4,
   "metadata": {},
   "outputs": [],
   "source": [
    "flavours = ['Sweet', 'Earthy', 'Spicy/Herbal', 'Tropical',\n",
    "       'Pungent', 'Flowery', 'Blueberry', 'Berry', 'Pine', 'Woody', 'Citrus',\n",
    "       'Diesel', 'Lemon_Lime', 'Appearment', 'Grape', 'Skunk', 'Apricot_Grapefruit']"
   ]
  },
  {
   "cell_type": "code",
   "execution_count": 5,
   "metadata": {},
   "outputs": [
    {
     "name": "stdout",
     "output_type": "stream",
     "text": [
      "Index(['Strain', 'Lean', 'Eff_Focused', 'Med_Inflammation', 'Eff_Dizzy',\n",
      "       'Eff_Energetic', 'Eff_Dry_eyes', 'Med_Lack_of_appetite', 'Eff_Happy',\n",
      "       'Eff_Creative', 'Med_Muscle_spasms', 'Eff_Sleepy', 'Med_Stress',\n",
      "       'Eff_Tingly', 'Eff_Aroused', 'Eff_Anxious', 'Med_Nausea', 'Med_Fatigue',\n",
      "       'Med_Cramps', 'Eff_Uplifted', 'Eff_Headache', 'Eff_Talkative',\n",
      "       'Eff_Paranoid', 'Eff_Hungry', 'Eff_Giggly', 'Med_Depression',\n",
      "       'Eff_Relaxed', 'Med_Pain', 'Eff_Euphoric', 'Med_Eye_pressure',\n",
      "       'Eff_Dry_mouth', 'Med_Headaches', 'Med_Insomnia', 'Rating_scaled',\n",
      "       'Num_reviews_scaled', 'THC_scaled', 'Strain_type'],\n",
      "      dtype='object') \n",
      "\n",
      " Index(['Sweet', 'Earthy', 'Spicy/Herbal', 'Tropical', 'Pungent', 'Flowery',\n",
      "       'Blueberry', 'Berry', 'Pine', 'Woody', 'Citrus', 'Diesel', 'Lemon_Lime',\n",
      "       'Appearment', 'Grape', 'Skunk', 'Apricot_Grapefruit'],\n",
      "      dtype='object')\n"
     ]
    }
   ],
   "source": [
    "# Set up df_num (numerical columns only)\n",
    "\n",
    "no_flav = []\n",
    "for column in df.columns:\n",
    "    if column not in flavours:\n",
    "        no_flav.append(column)\n",
    "\n",
    "df_num = df[no_flav] # numeric dataframe\n",
    "df_flav = df[flavours] # categorical dataframe - flavours\n",
    "\n",
    "print(df_num.columns, \"\\n\\n\", df_flav.columns)"
   ]
  },
  {
   "cell_type": "code",
   "execution_count": 6,
   "metadata": {},
   "outputs": [],
   "source": [
    "# Get rid of the categorical columns \"Strain\" and \"Strain_type\"\n",
    "df_num.drop('Strain_type', axis=1, inplace=True)\n",
    "df_num.drop('Strain', axis=1, inplace=True)"
   ]
  },
  {
   "cell_type": "code",
   "execution_count": 7,
   "metadata": {},
   "outputs": [],
   "source": [
    "# Apply Standard scaler - K-Means is a distance function\n",
    "\n",
    "X = df_num.values # Define X (all columns of our DF)\n",
    "\n",
    "X = StandardScaler().fit_transform(X) # Apply StandardScaler (mean=0, var=1)\n",
    "df_num_scaled = pd.DataFrame(X, columns = df_num.columns)"
   ]
  },
  {
   "cell_type": "code",
   "execution_count": 8,
   "metadata": {},
   "outputs": [],
   "source": [
    "X = df_num_scaled.values # SCALED DATA - Slight elbow around k = 2,3,4\n",
    "# X = df_num.values # NON-SCALED DATA - Deeper elbow than non-scaled data. k = 2,3\n",
    "\n",
    "k_range = np.arange(1,20)\n",
    "inertia_list = []\n",
    "\n",
    "for k in k_range:\n",
    "    k_means_model = KMeans(n_clusters = k)\n",
    "    k_means_model.fit(X)\n",
    "    inertia_list.append(k_means_model.inertia_)"
   ]
  },
  {
   "cell_type": "markdown",
   "metadata": {},
   "source": [
    "### Graph: K-Means inertias (k-values)"
   ]
  },
  {
   "cell_type": "code",
   "execution_count": 9,
   "metadata": {},
   "outputs": [
    {
     "data": {
      "image/png": "[encoded data removed]",
      "text/plain": [
       "<Figure size 576x432 with 1 Axes>"
      ]
     },
     "metadata": {
      "needs_background": "light"
     },
     "output_type": "display_data"
    }
   ],
   "source": [
    "# Plot\n",
    "plt.figure(figsize=(8,6))\n",
    "figure = plt.scatter(k_range,inertia_list)\n",
    "plt.ylabel('inertia')\n",
    "# plt.xlabel('k')\n",
    "plt.title('K-Means inertias (elbow graph) - no StandardScaler')\n",
    "plt.show()\n",
    "figure = figure.get_figure()\n",
    "# figure.savefig('/Users/abgrss/Documents/Projects/Brain Station/00 Capstone project/graphs/K_means_inertias')"
   ]
  },
  {
   "cell_type": "markdown",
   "metadata": {},
   "source": [
    "For our scaled data the inflection point of the elbow is very soft. It is slight and could be anywhere from 2-4, or maybe even higher. For our unscaled data, however, we get a much clearer elbow. k could be 2 or 3 but the dropoff after one is considerable, suggesting the distinctness of at least two groups.\n",
    "\n",
    "Given these results, we will use df in this model going forward."
   ]
  },
  {
   "cell_type": "markdown",
   "metadata": {},
   "source": [
    "### K-Means: Strain type prediction"
   ]
  },
  {
   "cell_type": "markdown",
   "metadata": {},
   "source": [
    "Let's see how well K-Means predicts Strain type."
   ]
  },
  {
   "cell_type": "code",
   "execution_count": 10,
   "metadata": {},
   "outputs": [],
   "source": [
    "X = df_num.drop('Lean', axis=1) # We must remove Lean if we're predicting Strain\n",
    "# y2 = df.Strain_type\n",
    "y = df.Strain_type.copy()\n",
    "\n",
    "# Assign numerical labels to y (required for confusion matrix below)\n",
    "\n",
    "\n",
    "y.loc[y == 'hybrid'] = 0\n",
    "y.loc[y == 'sativa'] = 2\n",
    "y.loc[y == 'indica'] = 1"
   ]
  },
  {
   "cell_type": "code",
   "execution_count": 11,
   "metadata": {},
   "outputs": [],
   "source": [
    "# Apply train_test_split, stratified on Strain type.\n",
    "X_train, X_test, y_train, y_test = train_test_split(X, y, test_size=0.3, stratify=y)"
   ]
  },
  {
   "cell_type": "code",
   "execution_count": 12,
   "metadata": {},
   "outputs": [],
   "source": [
    "# K-Means, K = 2 \n",
    "k2_means = KMeans(n_clusters = 2) # Instantiate\n",
    "k2_means.fit(X_train) # Fit\n",
    "y2_pred = k2_means.predict(X_train) # Predict"
   ]
  },
  {
   "cell_type": "code",
   "execution_count": 13,
   "metadata": {},
   "outputs": [],
   "source": [
    "# K-Means, K = 3\n",
    "k3_means = KMeans(n_clusters = 3) # Instantiate\n",
    "k3_means.fit(X_train) # Fit\n",
    "y3_pred = k3_means.predict(X_train) # Predict"
   ]
  },
  {
   "cell_type": "markdown",
   "metadata": {},
   "source": [
    "Now we'll evaluate our models."
   ]
  },
  {
   "cell_type": "code",
   "execution_count": 14,
   "metadata": {},
   "outputs": [
    {
     "data": {
      "text/plain": [
       "array([[383, 389,   0],\n",
       "       [ 36, 384,   0],\n",
       "       [244,  55,   0]])"
      ]
     },
     "metadata": {},
     "output_type": "display_data"
    },
    {
     "data": {
      "text/plain": [
       "array([[172, 418, 182],\n",
       "       [296, 108,  16],\n",
       "       [ 18, 107, 174]])"
      ]
     },
     "metadata": {},
     "output_type": "display_data"
    }
   ],
   "source": [
    "# Confusion matrices for k = 2, 3\n",
    "k2_confusion_matrix = confusion_matrix(y_train, y2_pred)\n",
    "k3_confusion_matrix = confusion_matrix(y_train, y3_pred)\n",
    "\n",
    "display (k2_confusion_matrix)\n",
    "display (k3_confusion_matrix)"
   ]
  },
  {
   "cell_type": "markdown",
   "metadata": {},
   "source": [
    "Not an especially convincing confusion matrix, even if we rearrange our labels to give us the largest numbers on the diagonals. let's check the accuracy scores."
   ]
  },
  {
   "cell_type": "code",
   "execution_count": 15,
   "metadata": {},
   "outputs": [
    {
     "name": "stdout",
     "output_type": "stream",
     "text": [
      "k2 accuracy score: 0.5144198524480215\n",
      "k3 accuracy score: 0.3044936284372904\n"
     ]
    }
   ],
   "source": [
    "# Accuracy scores for k = 2, 3\n",
    "k2_accuracy_score = accuracy_score(y_train, y2_pred)\n",
    "k3_accuracy_score = accuracy_score(y_train, y3_pred)\n",
    "\n",
    "print(f\"k2 accuracy score: {k2_accuracy_score}\")\n",
    "print(f\"k3 accuracy score: {k3_accuracy_score}\")"
   ]
  },
  {
   "cell_type": "markdown",
   "metadata": {},
   "source": [
    "For even just the train data, k3 most commonly gives a better accuracy, but it's still not great. Depending on how the variables are assigned I can only get this to be a maximum of about 61% at most, with lower scores being more common."
   ]
  },
  {
   "cell_type": "code",
   "execution_count": 16,
   "metadata": {},
   "outputs": [
    {
     "name": "stdout",
     "output_type": "stream",
     "text": [
      "k3 accuracy score: 0.3004694835680751\n"
     ]
    }
   ],
   "source": [
    "k3_means_all = KMeans(n_clusters = 3) # Instantiate\n",
    "k3_means_all.fit(X) # Fit\n",
    "y3_pred_all = k3_means_all.predict(X) # Predict\n",
    "k3_accuracy_score_all = accuracy_score(y, y3_pred_all)\n",
    "print(f\"k3 accuracy score: {k3_accuracy_score_all}\")"
   ]
  },
  {
   "cell_type": "markdown",
   "metadata": {},
   "source": [
    "For replicating our entire data set, we get a maximum accuracy of 60% (assuming the labels are properly allocated). Not amazing."
   ]
  },
  {
   "cell_type": "markdown",
   "metadata": {},
   "source": [
    "We'll run pairplots for all the X-columns for both k=2 and 3."
   ]
  },
  {
   "cell_type": "code",
   "execution_count": 17,
   "metadata": {},
   "outputs": [],
   "source": [
    "# # We can pairplot all these - takes a few minutes and is hard to read.\n",
    "\n",
    "# X_y = pd.DataFrame(X_train) # To use seaborn you have to put it in a df\n",
    "# X_y['label'] = k2_means.labels_ # seaborn wants all the labels in the same dataset\n",
    "\n",
    "# figure = sns.pairplot(X_y, hue='label') # This is really, really big. Divide this up meaningfully.\n",
    "# figure.savefig('/Users/abgrss/Documents/Projects/Brain Station/00 Capstone project/graphs/huge_pairplot')"
   ]
  },
  {
   "cell_type": "markdown",
   "metadata": {},
   "source": [
    "Now we can try K-Modes and K-Protoypes to incorporate the categorical data, if desired."
   ]
  },
  {
   "cell_type": "markdown",
   "metadata": {},
   "source": [
    "K-modes and K-Prototype here: \n",
    "\n",
    "https://github.com/nicodv/kmodes/blob/master/README.rst"
   ]
  },
  {
   "cell_type": "code",
   "execution_count": null,
   "metadata": {},
   "outputs": [],
   "source": []
  }
 ],
 "metadata": {
  "kernelspec": {
   "display_name": "Python 3",
   "language": "python",
   "name": "python3"
  },
  "language_info": {
   "codemirror_mode": {
    "name": "ipython",
    "version": 3
   },
   "file_extension": ".py",
   "mimetype": "text/x-python",
   "name": "python",
   "nbconvert_exporter": "python",
   "pygments_lexer": "ipython3",
   "version": "3.7.1"
  }
 },
 "nbformat": 4,
 "nbformat_minor": 2
}
